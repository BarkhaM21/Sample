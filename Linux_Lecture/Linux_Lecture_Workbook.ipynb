{
  "nbformat": 4,
  "nbformat_minor": 0,
  "metadata": {
    "colab": {
      "provenance": []
    },
    "kernelspec": {
      "name": "python3",
      "display_name": "Python 3"
    },
    "language_info": {
      "name": "python"
    }
  },
  "cells": [
    {
      "cell_type": "markdown",
      "source": [
        "Google Colab allows you to run Linux commands using !"
      ],
      "metadata": {
        "id": "ME7HuvdC1jfg"
      }
    },
    {
      "cell_type": "code",
      "source": [
        "#1. # Check Linux version (useful for understanding system environment)\n",
        "!lsb_release -a\n"
      ],
      "metadata": {
        "colab": {
          "base_uri": "https://localhost:8080/"
        },
        "id": "IDqYJ3VI1mLh",
        "outputId": "b42135b9-7ae4-4aa0-85ac-5ca1e5bbd691"
      },
      "execution_count": 2,
      "outputs": [
        {
          "output_type": "stream",
          "name": "stdout",
          "text": [
            "No LSB modules are available.\n",
            "Distributor ID:\tUbuntu\n",
            "Description:\tUbuntu 22.04.4 LTS\n",
            "Release:\t22.04\n",
            "Codename:\tjammy\n"
          ]
        }
      ]
    },
    {
      "cell_type": "code",
      "source": [
        "#2.  Check system memory and CPU info\n",
        "!free -h\n",
        "!lscpu"
      ],
      "metadata": {
        "colab": {
          "base_uri": "https://localhost:8080/"
        },
        "id": "oj534GEG1qqP",
        "outputId": "d8faefa8-5162-4a9d-cf9e-7796b7cce98f"
      },
      "execution_count": 3,
      "outputs": [
        {
          "output_type": "stream",
          "name": "stdout",
          "text": [
            "               total        used        free      shared  buff/cache   available\n",
            "Mem:            12Gi       962Mi       8.7Gi       3.0Mi       3.0Gi        11Gi\n",
            "Swap:             0B          0B          0B\n",
            "Architecture:             x86_64\n",
            "  CPU op-mode(s):         32-bit, 64-bit\n",
            "  Address sizes:          46 bits physical, 48 bits virtual\n",
            "  Byte Order:             Little Endian\n",
            "CPU(s):                   2\n",
            "  On-line CPU(s) list:    0,1\n",
            "Vendor ID:                GenuineIntel\n",
            "  Model name:             Intel(R) Xeon(R) CPU @ 2.20GHz\n",
            "    CPU family:           6\n",
            "    Model:                79\n",
            "    Thread(s) per core:   2\n",
            "    Core(s) per socket:   1\n",
            "    Socket(s):            1\n",
            "    Stepping:             0\n",
            "    BogoMIPS:             4399.99\n",
            "    Flags:                fpu vme de pse tsc msr pae mce cx8 apic sep mtrr pge mca cmov pat pse36 cl\n",
            "                          flush mmx fxsr sse sse2 ss ht syscall nx pdpe1gb rdtscp lm constant_tsc re\n",
            "                          p_good nopl xtopology nonstop_tsc cpuid tsc_known_freq pni pclmulqdq ssse3\n",
            "                           fma cx16 pcid sse4_1 sse4_2 x2apic movbe popcnt aes xsave avx f16c rdrand\n",
            "                           hypervisor lahf_lm abm 3dnowprefetch invpcid_single ssbd ibrs ibpb stibp \n",
            "                          fsgsbase tsc_adjust bmi1 hle avx2 smep bmi2 erms invpcid rtm rdseed adx sm\n",
            "                          ap xsaveopt arat md_clear arch_capabilities\n",
            "Virtualization features:  \n",
            "  Hypervisor vendor:      KVM\n",
            "  Virtualization type:    full\n",
            "Caches (sum of all):      \n",
            "  L1d:                    32 KiB (1 instance)\n",
            "  L1i:                    32 KiB (1 instance)\n",
            "  L2:                     256 KiB (1 instance)\n",
            "  L3:                     55 MiB (1 instance)\n",
            "NUMA:                     \n",
            "  NUMA node(s):           1\n",
            "  NUMA node0 CPU(s):      0,1\n",
            "Vulnerabilities:          \n",
            "  Gather data sampling:   Not affected\n",
            "  Itlb multihit:          Not affected\n",
            "  L1tf:                   Mitigation; PTE Inversion\n",
            "  Mds:                    Vulnerable; SMT Host state unknown\n",
            "  Meltdown:               Vulnerable\n",
            "  Mmio stale data:        Vulnerable\n",
            "  Reg file data sampling: Not affected\n",
            "  Retbleed:               Vulnerable\n",
            "  Spec rstack overflow:   Not affected\n",
            "  Spec store bypass:      Vulnerable\n",
            "  Spectre v1:             Vulnerable: __user pointer sanitization and usercopy barriers only; no swa\n",
            "                          pgs barriers\n",
            "  Spectre v2:             Vulnerable; IBPB: disabled; STIBP: disabled; PBRSB-eIBRS: Not affected; BH\n",
            "                          I: Vulnerable (Syscall hardening enabled)\n",
            "  Srbds:                  Not affected\n",
            "  Tsx async abort:        Vulnerable\n"
          ]
        }
      ]
    },
    {
      "cell_type": "code",
      "source": [
        "#3. Print the current working directory\n",
        "!pwd"
      ],
      "metadata": {
        "id": "RxJ-B49JWWqi",
        "colab": {
          "base_uri": "https://localhost:8080/"
        },
        "outputId": "1eb239b8-140a-4c1d-e490-6234b2c2bff8"
      },
      "execution_count": 4,
      "outputs": [
        {
          "output_type": "stream",
          "name": "stdout",
          "text": [
            "/content\n"
          ]
        }
      ]
    },
    {
      "cell_type": "code",
      "source": [
        "#4. Create a new folder\n",
        "!mkdir /content/Civil_Engineering\n",
        "\n",
        "#5. Move into the new folder\n",
        "%cd Civil_Engineering\n",
        "\n"
      ],
      "metadata": {
        "colab": {
          "base_uri": "https://localhost:8080/"
        },
        "id": "csEJc-tW2fAx",
        "outputId": "d355612a-8e65-4732-824e-93e471dc49e0"
      },
      "execution_count": 5,
      "outputs": [
        {
          "output_type": "stream",
          "name": "stdout",
          "text": [
            "/content/Civil_Engineering\n"
          ]
        }
      ]
    },
    {
      "cell_type": "code",
      "source": [
        "#6. Create a text file called my first file in current directory\n",
        "\n",
        "!touch \"my first file\"\n"
      ],
      "metadata": {
        "id": "4o_8lHmW4V_3"
      },
      "execution_count": 6,
      "outputs": []
    },
    {
      "cell_type": "code",
      "source": [
        "#6. List files in current directory\n",
        "!ls -lah\n",
        "\n",
        "# Verify the current path\n",
        "!pwd\n"
      ],
      "metadata": {
        "colab": {
          "base_uri": "https://localhost:8080/"
        },
        "id": "idy-35sl3AXw",
        "outputId": "a10ad2f8-cc53-4ad3-e9f5-554b65295893"
      },
      "execution_count": 7,
      "outputs": [
        {
          "output_type": "stream",
          "name": "stdout",
          "text": [
            "total 8.0K\n",
            "drwxr-xr-x 2 root root 4.0K Mar 12 20:44  .\n",
            "drwxr-xr-x 1 root root 4.0K Mar 12 20:44  ..\n",
            "-rw-r--r-- 1 root root    0 Mar 12 20:44 'my first file'\n",
            "/content/Civil_Engineering\n"
          ]
        }
      ]
    },
    {
      "cell_type": "code",
      "source": [
        "#7. Create 4 different files and concatenate them using cat\n",
        "\n",
        "# Create four text files\n",
        "!echo \"Civil engineering designs and builds essential infrastructure\" > file1.txt\n",
        "!echo \"like roads, bridges,  \" > file2.txt\n",
        "!echo \"buildings, and water systems \" > file3.txt\n",
        "!echo \"to support modern society.\" > file4.txt\n",
        "\n",
        "# Concatenate the files\n",
        "!cat file1.txt file2.txt file3.txt file4.txt > concatenated_file.txt\n",
        "\n",
        "# Print the content of the concatenated file (optional)\n",
        "!cat concatenated_file.txt\n",
        "\n",
        "\n",
        "\n",
        "# Concatenate the files\n",
        "!cat file1.txt file2.txt file3.txt file4.txt > concatenated_file.txt\n",
        "\n",
        "# Print the content of the concatenated file\n",
        "!cat concatenated_file.txt\n",
        "\n",
        "\n"
      ],
      "metadata": {
        "colab": {
          "base_uri": "https://localhost:8080/"
        },
        "id": "D5ZbJSnq4uU8",
        "outputId": "1844af31-6507-4c27-cb82-789df81d37eb"
      },
      "execution_count": 8,
      "outputs": [
        {
          "output_type": "stream",
          "name": "stdout",
          "text": [
            "Civil engineering designs and builds essential infrastructure\n",
            "like roads, bridges,  \n",
            "buildings, and water systems \n",
            "to support modern society.\n",
            "Civil engineering designs and builds essential infrastructure\n",
            "like roads, bridges,  \n",
            "buildings, and water systems \n",
            "to support modern society.\n"
          ]
        }
      ]
    },
    {
      "cell_type": "code",
      "source": [
        "# 8. How would you add the snetences in new file but without adding the new line?\n",
        "# Create four text files without newlines\n",
        "!echo -n \"Civil engineering designs and builds essential infrastructure \" > file1.txt\n",
        "!echo -n \"like roads, bridges, \" > file2.txt\n",
        "!echo -n \"buildings, and water systems \" > file3.txt\n",
        "!echo -n \"to support modern society.\" > file4.txt"
      ],
      "metadata": {
        "id": "6OGVA4cK78CN"
      },
      "execution_count": 9,
      "outputs": []
    },
    {
      "cell_type": "code",
      "source": [
        "#9. remove everything recursively in /content/Civil_Engineering\n",
        "\n",
        "!rm -rf /content/Civil_Engineering\n"
      ],
      "metadata": {
        "id": "B_OOCU7k3FPI"
      },
      "execution_count": 10,
      "outputs": []
    },
    {
      "cell_type": "code",
      "source": [
        "#10. print current directory\n",
        "#!pwd"
      ],
      "metadata": {
        "id": "mRRu2RxJ8ToL"
      },
      "execution_count": 11,
      "outputs": []
    },
    {
      "cell_type": "code",
      "source": [
        "%cd /content/"
      ],
      "metadata": {
        "colab": {
          "base_uri": "https://localhost:8080/"
        },
        "id": "OQ-lwPXZGZnS",
        "outputId": "f9f2a77d-d3ff-4450-9396-c71a419acc77"
      },
      "execution_count": 12,
      "outputs": [
        {
          "output_type": "stream",
          "name": "stdout",
          "text": [
            "/content\n"
          ]
        }
      ]
    },
    {
      "cell_type": "markdown",
      "source": [
        "# ***Difference between magic command and normal linux command***"
      ],
      "metadata": {
        "id": "mz981QR_Erb1"
      }
    },
    {
      "cell_type": "code",
      "source": [
        "#11. Fix error and print directory again\n",
        "!cd /content/ && pwd  # This will print /content/\n",
        "!pwd  # But this still shows the original directory\n"
      ],
      "metadata": {
        "colab": {
          "base_uri": "https://localhost:8080/"
        },
        "id": "iYqiHrybCwMT",
        "outputId": "24410f39-0e95-458c-dee8-8c39cd940a5c"
      },
      "execution_count": 13,
      "outputs": [
        {
          "output_type": "stream",
          "name": "stdout",
          "text": [
            "/content\n",
            "/content\n"
          ]
        }
      ]
    },
    {
      "cell_type": "markdown",
      "source": [
        "# ***Bonus : Cryptography***"
      ],
      "metadata": {
        "id": "IA6n0n7ZD2M8"
      }
    },
    {
      "cell_type": "code",
      "source": [
        "#12. Craete a file and add SECRET: in a line\n",
        "!echo \"SECRET: The password is 1234\" > secrets.txt\n",
        "!echo \"This is a normal line\" >> secrets.txt\n",
        "!echo \"Another regular line\" >> secrets.txt\n",
        "\n"
      ],
      "metadata": {
        "id": "MWrAQinBZ8_s"
      },
      "execution_count": 14,
      "outputs": []
    },
    {
      "cell_type": "code",
      "source": [
        "#13. Use grep to fetch the line with SECRET: in file we craeted in step 12\n",
        "!grep \"SECRET\" secrets.txt"
      ],
      "metadata": {
        "colab": {
          "base_uri": "https://localhost:8080/"
        },
        "id": "H4Ti9vuNFA9B",
        "outputId": "e7cfc3c6-d091-4ecc-e6fb-d59323b40e46"
      },
      "execution_count": 15,
      "outputs": [
        {
          "output_type": "stream",
          "name": "stdout",
          "text": [
            "SECRET: The password is 1234\n"
          ]
        }
      ]
    },
    {
      "cell_type": "code",
      "source": [
        "#14. Encrypt the file using openssl enc -aes-256-cbc -salt -pbkdf2 -iter 100000 -out secrets.enc -pass pass:classpassword\n",
        "!echo \"SECRET: The password is 1234\" | openssl enc -aes-256-cbc -salt -pbkdf2 -iter 100000 -out secrets.enc -pass pass:classpassword"
      ],
      "metadata": {
        "id": "akhVdCkNay8N"
      },
      "execution_count": 16,
      "outputs": []
    },
    {
      "cell_type": "code",
      "source": [
        "#15. Try fetching the new file without decryption\n",
        "!cat secrets.enc"
      ],
      "metadata": {
        "colab": {
          "base_uri": "https://localhost:8080/"
        },
        "id": "YXi4HY6sb0u3",
        "outputId": "9a35ea90-2d5e-4553-c27c-4a4543f12621"
      },
      "execution_count": 17,
      "outputs": [
        {
          "output_type": "stream",
          "name": "stdout",
          "text": [
            "Salted__2\u0019��Q\u0005fV����\t|Pک7$Dɠ���\b�\u0013�m���Ѻ�R"
          ]
        }
      ]
    },
    {
      "cell_type": "code",
      "source": [
        "#16. Decrypt the file using !openssl enc -aes-256-cbc -d -salt -pbkdf2 -iter 100000 -in secrets.enc -pass pass:classpassword\n",
        "!openssl enc -aes-256-cbc -d -salt -pbkdf2 -iter 100000 -in secrets.enc -pass pass:classpassword\n"
      ],
      "metadata": {
        "colab": {
          "base_uri": "https://localhost:8080/"
        },
        "id": "PF2vd5PJbOiW",
        "outputId": "abe7069a-385e-4ff9-c676-c445f0b921e9"
      },
      "execution_count": 18,
      "outputs": [
        {
          "output_type": "stream",
          "name": "stdout",
          "text": [
            "SECRET: The password is 1234\n"
          ]
        }
      ]
    }
  ]
}