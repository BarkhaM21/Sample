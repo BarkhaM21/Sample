{
  "nbformat": 4,
  "nbformat_minor": 0,
  "metadata": {
    "colab": {
      "provenance": []
    },
    "kernelspec": {
      "name": "python3",
      "display_name": "Python 3"
    },
    "language_info": {
      "name": "python"
    }
  },
  "cells": [
    {
      "cell_type": "markdown",
      "source": [
        "# ***Google Colab allows you to run Linux commands using !***\n",
        "\n",
        "---\n",
        "\n"
      ],
      "metadata": {
        "id": "ME7HuvdC1jfg"
      }
    },
    {
      "cell_type": "code",
      "source": [
        "#1. # Check Linux version (useful for understanding system environment)"
      ],
      "metadata": {
        "id": "IDqYJ3VI1mLh"
      },
      "execution_count": 1,
      "outputs": []
    },
    {
      "cell_type": "code",
      "source": [
        "#2.  Check system memory and CPU info"
      ],
      "metadata": {
        "id": "oj534GEG1qqP"
      },
      "execution_count": 2,
      "outputs": []
    },
    {
      "cell_type": "code",
      "source": [
        "#3. Print the current working directory"
      ],
      "metadata": {
        "id": "RxJ-B49JWWqi"
      },
      "execution_count": 3,
      "outputs": []
    },
    {
      "cell_type": "code",
      "source": [
        "#4. Create a new folder"
      ],
      "metadata": {
        "id": "csEJc-tW2fAx"
      },
      "execution_count": 4,
      "outputs": []
    },
    {
      "cell_type": "code",
      "source": [
        "#5. Move into the new folder"
      ],
      "metadata": {
        "id": "MM4Jm26aJh1a"
      },
      "execution_count": 5,
      "outputs": []
    },
    {
      "cell_type": "code",
      "source": [
        "#6. Create a text file called my first file in current directory"
      ],
      "metadata": {
        "id": "4o_8lHmW4V_3"
      },
      "execution_count": 6,
      "outputs": []
    },
    {
      "cell_type": "code",
      "source": [
        "#7. List files in current director\n",
        "\n",
        "# Verify the current path"
      ],
      "metadata": {
        "id": "idy-35sl3AXw"
      },
      "execution_count": 7,
      "outputs": []
    },
    {
      "cell_type": "code",
      "source": [
        "#8. Create 4 different files and concatenate them using cat. print contents of concatenated file\n",
        "\n",
        "# Create four text files\n",
        "\n",
        "# Concatenate the files\n",
        "\n",
        "# Print the content of the concatenated file\n",
        "\n",
        "\n",
        "\n"
      ],
      "metadata": {
        "id": "D5ZbJSnq4uU8"
      },
      "execution_count": 8,
      "outputs": []
    },
    {
      "cell_type": "code",
      "source": [
        "# 9. How would you add the snetences in new file but without adding the new line?\n",
        "# Create four text files without newlines"
      ],
      "metadata": {
        "id": "6OGVA4cK78CN"
      },
      "execution_count": 9,
      "outputs": []
    },
    {
      "cell_type": "code",
      "source": [
        "#10. remove everything recursively in /content/Civil_Engineering\n"
      ],
      "metadata": {
        "id": "B_OOCU7k3FPI"
      },
      "execution_count": 10,
      "outputs": []
    },
    {
      "cell_type": "code",
      "source": [
        "#11. print current directory"
      ],
      "metadata": {
        "id": "mRRu2RxJ8ToL"
      },
      "execution_count": 11,
      "outputs": []
    },
    {
      "cell_type": "markdown",
      "source": [
        "# ***Difference between magic command and normal linux command***"
      ],
      "metadata": {
        "id": "mz981QR_Erb1"
      }
    },
    {
      "cell_type": "code",
      "source": [
        "#12. Fix error and print directory again\n"
      ],
      "metadata": {
        "id": "iYqiHrybCwMT"
      },
      "execution_count": 12,
      "outputs": []
    },
    {
      "cell_type": "markdown",
      "source": [
        "# ***Bonus : Cryptography***"
      ],
      "metadata": {
        "id": "IA6n0n7ZD2M8"
      }
    },
    {
      "cell_type": "code",
      "source": [
        "#13. Create a file and add SECRET: in a line\n"
      ],
      "metadata": {
        "id": "MWrAQinBZ8_s"
      },
      "execution_count": 13,
      "outputs": []
    },
    {
      "cell_type": "code",
      "source": [
        "#14. Use grep to fetch the line with SECRET: in file we craeted in step 12"
      ],
      "metadata": {
        "id": "H4Ti9vuNFA9B"
      },
      "execution_count": 14,
      "outputs": []
    },
    {
      "cell_type": "code",
      "source": [
        "#15. Encrypt the file using openssl enc -aes-256-cbc -salt -pbkdf2 -iter 100000 -out secrets.enc -pass pass:classpassword"
      ],
      "metadata": {
        "id": "akhVdCkNay8N"
      },
      "execution_count": 15,
      "outputs": []
    },
    {
      "cell_type": "code",
      "source": [
        "#16. Try fetching the new file without decryption"
      ],
      "metadata": {
        "id": "YXi4HY6sb0u3"
      },
      "execution_count": 16,
      "outputs": []
    },
    {
      "cell_type": "code",
      "source": [
        "#16. Decrypt the file using !openssl enc -aes-256-cbc -d -salt -pbkdf2 -iter 100000 -in secrets.enc -pass pass:classpassword"
      ],
      "metadata": {
        "id": "PF2vd5PJbOiW"
      },
      "execution_count": 17,
      "outputs": []
    }
  ]
}